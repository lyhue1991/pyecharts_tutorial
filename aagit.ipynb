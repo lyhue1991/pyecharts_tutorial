{
 "cells": [
  {
   "cell_type": "code",
   "execution_count": 1,
   "metadata": {},
   "outputs": [],
   "source": [
    "!git config --global user.name \"lyhue1991\"\n",
    "!git config --global user.email \"lyhue1991@163.com\"\n",
    "\n",
    "# 出现一些类似 warning: LF will be replaced by CRLF in <file-name>. 可启用如下设置。\n",
    "!git config --global core.autocrlf false\n",
    "\n",
    "# 配置打印历史commit的快捷命令\n",
    "!git config --global alias.lg \"log --oneline --graph --all\""
   ]
  },
  {
   "cell_type": "code",
   "execution_count": 2,
   "metadata": {},
   "outputs": [
    {
     "name": "stdout",
     "output_type": "stream",
     "text": [
      "Initialized empty Git repository in F:/NutCloud/PythonFiles/keras_tutorial/.git/\n"
     ]
    }
   ],
   "source": [
    "!git init"
   ]
  },
  {
   "cell_type": "code",
   "execution_count": 1,
   "metadata": {},
   "outputs": [],
   "source": [
    "!git add -A "
   ]
  },
  {
   "cell_type": "code",
   "execution_count": 2,
   "metadata": {},
   "outputs": [
    {
     "name": "stdout",
     "output_type": "stream",
     "text": [
      "[master 147ed55] add chapter2\n",
      " 20 files changed, 34749 insertions(+), 1783 deletions(-)\n",
      " rewrite .ipynb_checkpoints/2锛宬eras涓嶥ense Neural Network-checkpoint.ipynb (62%)\n",
      " create mode 100644 cifar-10-batches-py/batches.meta\n",
      " create mode 100644 cifar-10-batches-py/data_batch_1\n",
      " create mode 100644 cifar-10-batches-py/data_batch_2\n",
      " create mode 100644 cifar-10-batches-py/data_batch_3\n",
      " create mode 100644 cifar-10-batches-py/data_batch_4\n",
      " create mode 100644 cifar-10-batches-py/data_batch_5\n",
      " create mode 100644 cifar-10-batches-py/readme.html\n",
      " create mode 100644 cifar-10-batches-py/test_batch\n",
      " create mode 100644 cifar2_model.h5\n",
      " create mode 100644 imdb_datasets/test.zip\n",
      " create mode 100644 imdb_datasets/train.zip\n",
      " create mode 100644 imdb_datasets/zz_test_imdb\n",
      " create mode 100644 imdb_datasets/zz_train_imdb\n",
      " create mode 100644 imdb_model.h5\n",
      " create mode 100644 titanic_model.h5\n"
     ]
    }
   ],
   "source": [
    "!git commit -m\"add chapter2\""
   ]
  },
  {
   "cell_type": "code",
   "execution_count": 3,
   "metadata": {},
   "outputs": [
    {
     "name": "stderr",
     "output_type": "stream",
     "text": [
      "fatal: remote origin already exists.\n"
     ]
    }
   ],
   "source": [
    "!git remote add origin https://github.com/lyhue1991/keras_tutorial.git"
   ]
  },
  {
   "cell_type": "code",
   "execution_count": 3,
   "metadata": {},
   "outputs": [
    {
     "name": "stdout",
     "output_type": "stream",
     "text": [
      "Current branch master is up to date.\n"
     ]
    }
   ],
   "source": [
    "!git rebase origin/master"
   ]
  },
  {
   "cell_type": "code",
   "execution_count": 4,
   "metadata": {},
   "outputs": [
    {
     "name": "stdout",
     "output_type": "stream",
     "text": [
      "Branch 'master' set up to track remote branch 'master' from 'origin'.\n"
     ]
    },
    {
     "name": "stderr",
     "output_type": "stream",
     "text": [
      "To https://github.com/lyhue1991/keras_tutorial.git\n",
      "   643df10..147ed55  master -> master\n"
     ]
    }
   ],
   "source": [
    "!git push -u origin master "
   ]
  }
 ],
 "metadata": {
  "kernelspec": {
   "display_name": "Python 3",
   "language": "python",
   "name": "python3"
  },
  "language_info": {
   "codemirror_mode": {
    "name": "ipython",
    "version": 3
   },
   "file_extension": ".py",
   "mimetype": "text/x-python",
   "name": "python",
   "nbconvert_exporter": "python",
   "pygments_lexer": "ipython3",
   "version": "3.6.5"
  }
 },
 "nbformat": 4,
 "nbformat_minor": 2
}
