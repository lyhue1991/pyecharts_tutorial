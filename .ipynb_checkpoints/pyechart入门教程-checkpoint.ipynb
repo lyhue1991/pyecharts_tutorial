{
 "cells": [
  {
   "cell_type": "markdown",
   "metadata": {},
   "source": [
    "# Pyecharts 可视化教程"
   ]
  },
  {
   "cell_type": "markdown",
   "metadata": {},
   "source": [
    "Echarts 是一个由百度开源的数据可视化javascript库，凭借着良好的交互性，精巧的图表设计，得到了众多开发者的认可。而 Python 是一门富有表达力的语言，很适合用于数据处理。当数据分析遇上数据可视化时，pyecharts 诞生了。"
   ]
  },
  {
   "cell_type": "code",
   "execution_count": null,
   "metadata": {},
   "outputs": [],
   "source": [
    "# 安装pyecharts\n",
    "!pip install pyecharts==0.5.11\n",
    "\n",
    "# pyecharts_snapshot 提供图片导出功能\n",
    "!pip install pyecharts_snapshot "
   ]
  },
  {
   "cell_type": "markdown",
   "metadata": {},
   "source": [
    "### 一，基本图表"
   ]
  },
  {
   "cell_type": "markdown",
   "metadata": {},
   "source": [
    "pyecharts支持30多种不同的图表。我们只对其中最常用的几种类型进行基本范例的介绍。\n",
    "\n",
    "下面是pyecharts主要类的继承关系。"
   ]
  },
  {
   "cell_type": "markdown",
   "metadata": {},
   "source": [
    "![](class-relationship-diagram.png)"
   ]
  },
  {
   "cell_type": "markdown",
   "metadata": {},
   "source": [
    "**1，柱形图示范**"
   ]
  },
  {
   "cell_type": "markdown",
   "metadata": {},
   "source": [
    "柱形图适合表现几组数据之间的对比关系，柱形图的数据的数量一般不宜太多。"
   ]
  },
  {
   "cell_type": "code",
   "execution_count": null,
   "metadata": {},
   "outputs": [],
   "source": [
    "from  pyecharts import Bar\n",
    "\n",
    "x = [\"衬衫\", \"羊毛衫\", \"雪纺衫\", \"裤子\", \"高跟鞋\"]\n",
    "y1 = [5, 20, 36, 10, 75]\n",
    "y2 = [10, 25, 8, 60, 20]\n",
    "\n",
    "bar = Bar(title = \"产品月销量\",width = 600,height = 420)\n",
    "bar.add(name = \"商家A\", x_axis = x, y_axis = y1)\n",
    "bar.add(name = \"商家B\", x_axis = x, y_axis = y2,is_xaxis_boundarygap =True)\n",
    "\n",
    "bar.render('柱形图基础示范.html')\n",
    "bar"
   ]
  },
  {
   "cell_type": "code",
   "execution_count": null,
   "metadata": {},
   "outputs": [],
   "source": []
  },
  {
   "cell_type": "markdown",
   "metadata": {},
   "source": [
    "**2，折线图示范**"
   ]
  },
  {
   "cell_type": "markdown",
   "metadata": {},
   "source": [
    "折线图适合描述两个变量之间的函数关系，例如常用它来描述一个变量随时间的变化趋势。"
   ]
  },
  {
   "cell_type": "code",
   "execution_count": null,
   "metadata": {},
   "outputs": [],
   "source": [
    "from  pyecharts import Line\n",
    "\n",
    "x = ['2018-{:0>2d}'.format(s) for s in range(1,13)]\n",
    "y1 = [5,10,26,30,35,30,20,26,40,46,40,50]\n",
    "y2 = [8,20,24,36,40,36,40,45,50,53,48,58]\n",
    "\n",
    "line = Line(title = \"月销售总额\",width = 600,height = 420)\n",
    "\n",
    "line.add(name = \"商家A\", x_axis = x, y_axis = y1,\n",
    "         line_width = 3,line_color = 'red')\n",
    "line.add(name = \"商家B\", x_axis = x, y_axis = y2,\n",
    "         yaxis_min = 0,yaxis_max = 100,is_xaxis_boundarygap = False,\n",
    "         is_datazoom_show =True,line_width = 2,line_color = 'cyan')\n",
    "\n",
    "line.render('折线图示范.html')\n",
    "line"
   ]
  },
  {
   "cell_type": "code",
   "execution_count": null,
   "metadata": {},
   "outputs": [],
   "source": []
  },
  {
   "cell_type": "markdown",
   "metadata": {},
   "source": [
    "**3，散点图示范**"
   ]
  },
  {
   "cell_type": "markdown",
   "metadata": {},
   "source": [
    "散点图适合表现大量样本的多个属性的分布规律。散点图的每个点表示一个样本，每个坐标维度表示一个属性。\n",
    "\n",
    "当样本属性维度多于2个时，可以使用点的颜色或大小等方式来表达更多属性维度。"
   ]
  },
  {
   "cell_type": "code",
   "execution_count": null,
   "metadata": {},
   "outputs": [],
   "source": [
    "from pyecharts import Scatter\n",
    "import pandas as pd \n",
    "\n",
    "dfboy = pd.DataFrame()\n",
    "dfboy['weight'] = [56,67,65,70,57,60,80,85,76,64]\n",
    "dfboy['height'] = [162,170,168,172,168,172,180,176,178,170]\n",
    "\n",
    "dfgirl = pd.DataFrame()\n",
    "dfgirl['weight'] = [50,62,60,70,57,45,62,65,70,56]\n",
    "dfgirl['height'] = [155,162,165,170,166,158,160,170,172,165]\n",
    "\n",
    "scatter = Scatter(title = \"体格数据\",width = 600,height = 420)\n",
    "scatter.add(name = \"boy\", x_axis = dfboy['weight'], y_axis = dfboy['height'])\n",
    "scatter.add(name = \"girl\", x_axis = dfgirl['weight'], y_axis = dfgirl['height'],\n",
    "           yaxis_min = 130,yaxis_max = 200,xaxis_min = 30,xaxis_max = 100)\n",
    "\n",
    "scatter.render(\"散点图示范.html\")\n",
    "\n",
    "scatter"
   ]
  },
  {
   "cell_type": "markdown",
   "metadata": {},
   "source": [
    "以下示范3个维度数据的散点图展示"
   ]
  },
  {
   "cell_type": "code",
   "execution_count": 3,
   "metadata": {},
   "outputs": [
    {
     "data": {
      "text/html": [
       "<script>\n",
       "    require.config({\n",
       "        paths: {\n",
       "            'echarts': '/nbextensions/echarts/echarts.min'\n",
       "        }\n",
       "    });\n",
       "</script>\n",
       "    <div id=\"072c59df7f49433c97252ee2958128e4\" style=\"width:600px;height:420px;\"></div>\n",
       "\n",
       "\n",
       "<script>\n",
       "    require(['echarts'], function(echarts) {\n",
       "        \n",
       "var myChart_072c59df7f49433c97252ee2958128e4 = echarts.init(document.getElementById('072c59df7f49433c97252ee2958128e4'), 'light', {renderer: 'canvas'});\n",
       "function custom_formatter(params) {\n",
       "    return ((((((params.value[3] + \":\") + params.value[0].toString()) + \",\") + params.value[1].toString()) + \",\") + params.value[2].toString());\n",
       "}\n",
       "\n",
       "var option_072c59df7f49433c97252ee2958128e4 = {\n",
       "    \"title\": [\n",
       "        {\n",
       "            \"text\": \"\\u5404\\u56fd\\u53d1\\u5c55\\u6c34\\u5e73\",\n",
       "            \"left\": \"auto\",\n",
       "            \"top\": \"auto\",\n",
       "            \"textStyle\": {\n",
       "                \"fontSize\": 18\n",
       "            },\n",
       "            \"subtextStyle\": {\n",
       "                \"fontSize\": 12\n",
       "            }\n",
       "        }\n",
       "    ],\n",
       "    \"toolbox\": {\n",
       "        \"show\": true,\n",
       "        \"orient\": \"vertical\",\n",
       "        \"left\": \"95%\",\n",
       "        \"top\": \"center\",\n",
       "        \"feature\": {\n",
       "            \"saveAsImage\": {\n",
       "                \"show\": true,\n",
       "                \"title\": \"save as image\"\n",
       "            },\n",
       "            \"restore\": {\n",
       "                \"show\": true,\n",
       "                \"title\": \"restore\"\n",
       "            },\n",
       "            \"dataView\": {\n",
       "                \"show\": true,\n",
       "                \"title\": \"data view\"\n",
       "            }\n",
       "        }\n",
       "    },\n",
       "    \"series_id\": 1330315,\n",
       "    \"tooltip\": {\n",
       "        \"trigger\": \"item\",\n",
       "        \"triggerOn\": \"mousemove|click\",\n",
       "        \"axisPointer\": {\n",
       "            \"type\": \"line\"\n",
       "        },\n",
       "        \"formatter\": custom_formatter,\n",
       "        \"textStyle\": {\n",
       "            \"fontSize\": 14\n",
       "        },\n",
       "        \"backgroundColor\": \"rgba(50,50,50,0.7)\",\n",
       "        \"borderColor\": \"#333\",\n",
       "        \"borderWidth\": 0\n",
       "    },\n",
       "    \"series\": [\n",
       "        {\n",
       "            \"type\": \"scatter\",\n",
       "            \"symbol\": \"circle\",\n",
       "            \"symbolSize\": 10,\n",
       "            \"data\": [\n",
       "                [\n",
       "                    13334,\n",
       "                    76.9,\n",
       "                    1376048943,\n",
       "                    \"\\u4e2d\\u56fd\"\n",
       "                ],\n",
       "                [\n",
       "                    53354,\n",
       "                    79.1,\n",
       "                    321773631,\n",
       "                    \"\\u7f8e\\u56fd\"\n",
       "                ],\n",
       "                [\n",
       "                    44053,\n",
       "                    81.1,\n",
       "                    80688545,\n",
       "                    \"\\u5fb7\\u56fd\"\n",
       "                ],\n",
       "                [\n",
       "                    37599,\n",
       "                    81.9,\n",
       "                    64395345,\n",
       "                    \"\\u6cd5\\u56fd\"\n",
       "                ],\n",
       "                [\n",
       "                    38225,\n",
       "                    81.4,\n",
       "                    64715810,\n",
       "                    \"\\u82f1\\u56fd\"\n",
       "                ],\n",
       "                [\n",
       "                    36162,\n",
       "                    83.5,\n",
       "                    126573481,\n",
       "                    \"\\u65e5\\u672c\"\n",
       "                ],\n",
       "                [\n",
       "                    23038,\n",
       "                    73.13,\n",
       "                    143456918,\n",
       "                    \"\\u4fc4\\u7f57\\u65af\"\n",
       "                ],\n",
       "                [\n",
       "                    5903,\n",
       "                    66.8,\n",
       "                    1311050527,\n",
       "                    \"\\u5370\\u5ea6\"\n",
       "                ],\n",
       "                [\n",
       "                    44056,\n",
       "                    81.8,\n",
       "                    23968973,\n",
       "                    \"\\u6fb3\\u5927\\u5229\\u4e9a\"\n",
       "                ],\n",
       "                [\n",
       "                    43294,\n",
       "                    81.7,\n",
       "                    35939927,\n",
       "                    \"\\u52a0\\u62ff\\u5927\"\n",
       "                ]\n",
       "            ],\n",
       "            \"label\": {\n",
       "                \"normal\": {\n",
       "                    \"show\": false,\n",
       "                    \"position\": \"top\",\n",
       "                    \"textStyle\": {\n",
       "                        \"fontSize\": 12\n",
       "                    }\n",
       "                },\n",
       "                \"emphasis\": {\n",
       "                    \"show\": true,\n",
       "                    \"textStyle\": {\n",
       "                        \"fontSize\": 12\n",
       "                    }\n",
       "                }\n",
       "            },\n",
       "            \"markPoint\": {\n",
       "                \"data\": []\n",
       "            },\n",
       "            \"markLine\": {\n",
       "                \"data\": []\n",
       "            },\n",
       "            \"seriesId\": 1330315\n",
       "        }\n",
       "    ],\n",
       "    \"legend\": [\n",
       "        {\n",
       "            \"data\": [\n",
       "                \"\"\n",
       "            ],\n",
       "            \"selectedMode\": \"multiple\",\n",
       "            \"show\": true,\n",
       "            \"left\": \"center\",\n",
       "            \"top\": \"top\",\n",
       "            \"orient\": \"horizontal\",\n",
       "            \"textStyle\": {\n",
       "                \"fontSize\": 12\n",
       "            }\n",
       "        }\n",
       "    ],\n",
       "    \"animation\": true,\n",
       "    \"xAxis\": [\n",
       "        {\n",
       "            \"show\": true,\n",
       "            \"nameLocation\": \"middle\",\n",
       "            \"nameGap\": 25,\n",
       "            \"nameTextStyle\": {\n",
       "                \"fontSize\": 14\n",
       "            },\n",
       "            \"axisTick\": {\n",
       "                \"alignWithLabel\": false\n",
       "            },\n",
       "            \"inverse\": false,\n",
       "            \"boundaryGap\": true,\n",
       "            \"type\": \"value\",\n",
       "            \"splitLine\": {\n",
       "                \"show\": true\n",
       "            },\n",
       "            \"axisLine\": {\n",
       "                \"lineStyle\": {\n",
       "                    \"width\": 1\n",
       "                }\n",
       "            },\n",
       "            \"axisLabel\": {\n",
       "                \"interval\": \"auto\",\n",
       "                \"rotate\": 0,\n",
       "                \"margin\": 8,\n",
       "                \"textStyle\": {\n",
       "                    \"fontSize\": 12\n",
       "                }\n",
       "            },\n",
       "            \"data\": [\n",
       "                13334.0,\n",
       "                53354.0,\n",
       "                44053.0,\n",
       "                37599.0,\n",
       "                38225.0,\n",
       "                36162.0,\n",
       "                23038.0,\n",
       "                5903.0,\n",
       "                44056.0,\n",
       "                43294.0\n",
       "            ]\n",
       "        }\n",
       "    ],\n",
       "    \"yAxis\": [\n",
       "        {\n",
       "            \"show\": true,\n",
       "            \"nameLocation\": \"middle\",\n",
       "            \"nameGap\": 25,\n",
       "            \"nameTextStyle\": {\n",
       "                \"fontSize\": 14\n",
       "            },\n",
       "            \"axisTick\": {\n",
       "                \"alignWithLabel\": false\n",
       "            },\n",
       "            \"inverse\": false,\n",
       "            \"boundaryGap\": true,\n",
       "            \"type\": \"value\",\n",
       "            \"splitLine\": {\n",
       "                \"show\": true\n",
       "            },\n",
       "            \"axisLine\": {\n",
       "                \"lineStyle\": {\n",
       "                    \"width\": 1\n",
       "                }\n",
       "            },\n",
       "            \"axisLabel\": {\n",
       "                \"interval\": \"auto\",\n",
       "                \"formatter\": \"{value} \",\n",
       "                \"rotate\": 0,\n",
       "                \"margin\": 8,\n",
       "                \"textStyle\": {\n",
       "                    \"fontSize\": 12\n",
       "                }\n",
       "            }\n",
       "        }\n",
       "    ],\n",
       "    \"color\": [\n",
       "        \"#c23531\",\n",
       "        \"#2f4554\",\n",
       "        \"#61a0a8\",\n",
       "        \"#d48265\",\n",
       "        \"#749f83\",\n",
       "        \"#ca8622\",\n",
       "        \"#bda29a\",\n",
       "        \"#6e7074\",\n",
       "        \"#546570\",\n",
       "        \"#c4ccd3\",\n",
       "        \"#f05b72\",\n",
       "        \"#ef5b9c\",\n",
       "        \"#f47920\",\n",
       "        \"#905a3d\",\n",
       "        \"#fab27b\",\n",
       "        \"#2a5caa\",\n",
       "        \"#444693\",\n",
       "        \"#726930\",\n",
       "        \"#b2d235\",\n",
       "        \"#6d8346\",\n",
       "        \"#ac6767\",\n",
       "        \"#1d953f\",\n",
       "        \"#6950a1\",\n",
       "        \"#918597\",\n",
       "        \"#f6f5ec\"\n",
       "    ],\n",
       "    \"visualMap\": {\n",
       "        \"type\": \"continuous\",\n",
       "        \"min\": 20000000,\n",
       "        \"max\": 1500000000,\n",
       "        \"text\": [\n",
       "            \"high\",\n",
       "            \"low\"\n",
       "        ],\n",
       "        \"textStyle\": {},\n",
       "        \"inRange\": {\n",
       "            \"symbolSize\": [\n",
       "                20,\n",
       "                50\n",
       "            ]\n",
       "        },\n",
       "        \"calculable\": true,\n",
       "        \"splitNumber\": 5,\n",
       "        \"dimension\": 2,\n",
       "        \"orient\": \"horizontal\",\n",
       "        \"left\": \"left\",\n",
       "        \"top\": \"bottom\",\n",
       "        \"showLabel\": true\n",
       "    }\n",
       "};\n",
       "myChart_072c59df7f49433c97252ee2958128e4.setOption(option_072c59df7f49433c97252ee2958128e4);\n",
       "\n",
       "    });\n",
       "</script>\n"
      ],
      "text/plain": [
       "<pyecharts.charts.scatter.Scatter at 0xc1764e3438>"
      ]
     },
     "execution_count": 3,
     "metadata": {},
     "output_type": "execute_result"
    }
   ],
   "source": [
    "from pyecharts import Scatter\n",
    "import pandas as pd \n",
    "\n",
    "def custom_formatter(params):\n",
    "    return (params.value[3] + ':' +\n",
    "             str(params.value[0]) +','\n",
    "             +str(params.value[1]) + ','\n",
    "             +str(params.value[2]))\n",
    "\n",
    "df = pd.DataFrame()\n",
    "df['country'] = [\"中国\",'美国','德国','法国','英国','日本','俄罗斯','印度','澳大利亚','加拿大']\n",
    "df['life-expectancy'] = [76.9,79.1,81.1,81.9,81.4,83.5,73.13,66.8,81.8,81.7]\n",
    "df['capita-gdp'] = [13334,53354,44053,37599,38225,36162,23038,5903,44056,43294]\n",
    "df['population'] = [1376048943,321773631,80688545,64395345,64715810,126573481,143456918,\n",
    "                    1311050527,23968973,35939927]\n",
    "\n",
    "scatter = Scatter(title = \"各国发展水平\",width = 600,height = 420)\n",
    "scatter.add(name = '',\n",
    "            x_axis = df['capita-gdp'],  # params.values[0]\n",
    "            y_axis = df['life-expectancy'], # params.values[1]\n",
    "            extra_data = df['population'].values.tolist(), # params.values[2]\n",
    "            extra_name = df['country'].values.tolist(), # params.values[3]\n",
    "            tooltip_formatter=custom_formatter,  #自定义提示框格式内容\n",
    "            is_visualmap=True, # 显示\n",
    "            visual_orient=\"horizontal\",\n",
    "            visual_type = 'size',  #可以是size或者color\n",
    "            visual_dimension=2,\n",
    "            visual_range=[20000000, 1500000000],\n",
    "           )\n",
    "scatter"
   ]
  },
  {
   "cell_type": "code",
   "execution_count": null,
   "metadata": {},
   "outputs": [],
   "source": []
  },
  {
   "cell_type": "markdown",
   "metadata": {},
   "source": [
    "**4，箱型图示范**"
   ]
  },
  {
   "cell_type": "markdown",
   "metadata": {},
   "source": [
    "箱型图适合表现一组数据的统计分布规律，它能显示出一组数据的最大值、最小值、中位数、及上下四分位数。\n",
    "\n",
    "箱型图的进阶版本是小提琴图，可以展示数据的密度估计曲线，可以用seaborn画出。"
   ]
  },
  {
   "cell_type": "code",
   "execution_count": null,
   "metadata": {},
   "outputs": [],
   "source": [
    "from pyecharts import Boxplot\n",
    "\n",
    "x =['1班','2班','3班','4班']\n",
    "y1=[78, 98, 56, 78, 90.0, 45, 78, 20, 87, 86, 74, 89, 94]\n",
    "y2=[89, 82, 45, 67, 68, 78.0, 79, 98, 71, 56, 78, 81, 80]\n",
    "y3=[90, 80, 60, 89, 76, 73.0, 72, 92, 89, 87, 65, 66, 76]\n",
    "y4=[82, 72, 55, 100, 90.0, 78, 69, 67, 87, 66, 78, 71, 82]\n",
    "\n",
    "box = Boxplot(title = '考试成绩箱型图',width = 600,height = 420)\n",
    "\n",
    "# 预处理数据计算最大值，最小值，中位数以及上下四分位数\n",
    "y_prepared = box.prepare_data([y1,y2,y3,y4]) \n",
    "box.add(name = '',x_axis = x,y_axis = y_prepared)"
   ]
  },
  {
   "cell_type": "markdown",
   "metadata": {},
   "source": [
    "附：用seaborn 进行小提琴图的绘制"
   ]
  },
  {
   "cell_type": "code",
   "execution_count": null,
   "metadata": {},
   "outputs": [],
   "source": [
    "import seaborn as sns\n",
    "%matplotlib inline\n",
    "%config InlineBackend.figure_format = 'svg'"
   ]
  },
  {
   "cell_type": "code",
   "execution_count": null,
   "metadata": {},
   "outputs": [],
   "source": [
    "#设置风格\n",
    "sns.set(style=\"white\", context=\"notebook\")\n",
    "#处理中文问题\n",
    "sns.set_style({'font.sans-serif':['simhei', 'Arial']}) "
   ]
  },
  {
   "cell_type": "code",
   "execution_count": null,
   "metadata": {},
   "outputs": [],
   "source": [
    "dfdata = pd.DataFrame()\n",
    "dfdata['score'] = y1 + y2 + y3 + y4\n",
    "dfdata['class'] = ['1班']*len(y1)+['2班']*len(y2)+['3班']*len(y3)+['4班']*len(y4)"
   ]
  },
  {
   "cell_type": "code",
   "execution_count": null,
   "metadata": {},
   "outputs": [],
   "source": [
    "ax = sns.violinplot(x= 'class', y = 'score',data = dfdata,\n",
    "            palette = 'hls', # 设置调色板\n",
    "            inner = 'box',   # 设置内部显示类型 → “box”, “quartile”, “point”, “stick”, None\n",
    "           )"
   ]
  },
  {
   "cell_type": "code",
   "execution_count": null,
   "metadata": {},
   "outputs": [],
   "source": []
  },
  {
   "cell_type": "code",
   "execution_count": null,
   "metadata": {},
   "outputs": [],
   "source": []
  },
  {
   "cell_type": "markdown",
   "metadata": {},
   "source": [
    "**5，词云图示范**"
   ]
  },
  {
   "cell_type": "markdown",
   "metadata": {},
   "source": [
    "词云图适合表现不同关键词的出现频率或重要性程度。"
   ]
  },
  {
   "cell_type": "code",
   "execution_count": null,
   "metadata": {},
   "outputs": [],
   "source": [
    "from pyecharts import WordCloud\n",
    "\n",
    "words = ['python','jupyter','numpy','pandas','matplotlib','sklearn',\n",
    "        'xgboost','lightGBM','simpy','keras','tensorflow',\n",
    "         'hive','hadoop','spark']\n",
    "counts = [100,90,65,95,50,60,70,70,20,70,80,80,60,60]\n",
    "\n",
    "cloud = WordCloud(title = '数据算法常用工具',width = 600,height = 420)\n",
    "cloud.add(name = 'utils',attr = words,value = counts,\n",
    "          shape = \"circle\",word_size_range = (10,70))"
   ]
  },
  {
   "cell_type": "code",
   "execution_count": null,
   "metadata": {},
   "outputs": [],
   "source": []
  },
  {
   "cell_type": "markdown",
   "metadata": {},
   "source": [
    "**6，地理坐标系图**"
   ]
  },
  {
   "cell_type": "markdown",
   "metadata": {},
   "source": [
    "地理坐标系图适合表现和国家，省份，以及城市，经纬度位置相关联的数据分布规律。"
   ]
  },
  {
   "cell_type": "code",
   "execution_count": null,
   "metadata": {},
   "outputs": [],
   "source": []
  },
  {
   "cell_type": "code",
   "execution_count": null,
   "metadata": {},
   "outputs": [],
   "source": []
  },
  {
   "cell_type": "markdown",
   "metadata": {},
   "source": [
    "### 二，图表配置"
   ]
  },
  {
   "cell_type": "markdown",
   "metadata": {},
   "source": [
    "如果要对绘制的图表进行诸如图像尺寸，坐标轴刻度，线的颜色，以及网格线等各个细节方面的修改，我们则需要手动对图表进行配置，而不是依赖于默认配置。\n",
    "\n",
    "图表配置有3种主要方式：\n",
    "\n",
    "1，修改图表主题风格：利用configure或use_theme指定图表主题风格，对图表整体颜色风格产生影响。 \n",
    "\n",
    "2，初始化图表通用属性：创建图表时指定图表height,title等属性，对图像尺寸和标题等通用属性产生影响。\n",
    "\n",
    "3，配置特定元素属性：使用add给图表添加数据时同时配置xyAxis,datazoom,lineStyle等特定元素属性。"
   ]
  },
  {
   "cell_type": "markdown",
   "metadata": {},
   "source": [
    "**1，修改图表主题风格**"
   ]
  },
  {
   "cell_type": "markdown",
   "metadata": {},
   "source": [
    "可以使用use_theme修改单个图表主题，也可以用configure修改全局图表风格。"
   ]
  },
  {
   "cell_type": "code",
   "execution_count": null,
   "metadata": {},
   "outputs": [],
   "source": [
    "# 默认主题效果\n",
    "import random\n",
    "from pyecharts import Bar\n",
    "\n",
    "X_AXIS = [\"衬衫\", \"羊毛衫\", \"雪纺衫\", \"裤子\", \"高跟鞋\", \"袜子\"]\n",
    "bar = Bar(\"默认主题效果\", \"这里是副标题\")\n",
    "bar.add(\"商家A\", X_AXIS, [random.randint(10, 100) for _ in range(6)])\n",
    "bar.add(\"商家B\", X_AXIS, [random.randint(10, 100) for _ in range(6)])\n",
    "bar.add(\"商家C\", X_AXIS, [random.randint(10, 100) for _ in range(6)])\n",
    "bar.add(\"商家D\", X_AXIS, [random.randint(10, 100) for _ in range(6)])\n",
    "bar"
   ]
  },
  {
   "cell_type": "code",
   "execution_count": null,
   "metadata": {},
   "outputs": [],
   "source": [
    "# 使用dark主题\n",
    "import random\n",
    "from pyecharts import Bar\n",
    "\n",
    "\n",
    "X_AXIS = [\"衬衫\", \"羊毛衫\", \"雪纺衫\", \"裤子\", \"高跟鞋\", \"袜子\"]\n",
    "bar = Bar(\"dark主题展示\", \"这里是副标题\")\n",
    "bar.use_theme(\"dark\")\n",
    "bar.add(\"商家A\", X_AXIS, [random.randint(10, 100) for _ in range(6)])\n",
    "bar.add(\"商家B\", X_AXIS, [random.randint(10, 100) for _ in range(6)])\n",
    "bar.add(\"商家C\", X_AXIS, [random.randint(10, 100) for _ in range(6)])\n",
    "bar.add(\"商家D\", X_AXIS, [random.randint(10, 100) for _ in range(6)])\n",
    "bar"
   ]
  },
  {
   "cell_type": "code",
   "execution_count": null,
   "metadata": {},
   "outputs": [],
   "source": [
    "# 安装主题插件获取更多主题\n",
    "!pip install echarts-themes-pypkg"
   ]
  },
  {
   "cell_type": "markdown",
   "metadata": {},
   "source": [
    "主题插件支持以下主题\n",
    "* vintage\n",
    "* macarons 美\n",
    "* shine    美+++\n",
    "* roma     美\n",
    "* westeros\n",
    "* wonderland\n",
    "* chalk\n",
    "* halloween 美+\n",
    "* essos\n",
    "* walden\n",
    "* purple-passion\n",
    "* romantic"
   ]
  },
  {
   "cell_type": "code",
   "execution_count": null,
   "metadata": {},
   "outputs": [],
   "source": [
    "import random\n",
    "from pyecharts import Bar\n",
    "\n",
    "\n",
    "X_AXIS = [\"衬衫\", \"羊毛衫\", \"雪纺衫\", \"裤子\", \"高跟鞋\", \"袜子\"]\n",
    "bar = Bar(\"shine主题展示\", \"这里是副标题\")\n",
    "bar.use_theme(\"shine\")\n",
    "bar.add(\"商家A\", X_AXIS, [random.randint(10, 100) for _ in range(6)])\n",
    "bar.add(\"商家B\", X_AXIS, [random.randint(10, 100) for _ in range(6)])\n",
    "bar.add(\"商家C\", X_AXIS, [random.randint(10, 100) for _ in range(6)])\n",
    "bar.add(\"商家D\", X_AXIS, [random.randint(10, 100) for _ in range(6)])\n",
    "bar"
   ]
  },
  {
   "cell_type": "markdown",
   "metadata": {},
   "source": [
    "如果要设置某个主题风格应用到所有图表，可以在绘图开始前用configure进行设置。"
   ]
  },
  {
   "cell_type": "code",
   "execution_count": null,
   "metadata": {},
   "outputs": [],
   "source": [
    "from pyecharts import configure\n",
    "# 将这行代码置于首部\n",
    "configure(global_theme='shine')"
   ]
  },
  {
   "cell_type": "code",
   "execution_count": null,
   "metadata": {},
   "outputs": [],
   "source": [
    "from pyecharts import Pie\n",
    "attr = [\"衬衫\", \"羊毛衫\", \"雪纺衫\", \"裤子\", \"高跟鞋\", \"袜子\"]\n",
    "value = [11, 12, 13, 10, 10, 10]\n",
    "pie = Pie(\"销售额占比\",width = 600,height = 420)\n",
    "pie.add(\"\", attr, value, is_label_show=True)"
   ]
  },
  {
   "cell_type": "code",
   "execution_count": null,
   "metadata": {},
   "outputs": [],
   "source": []
  },
  {
   "cell_type": "markdown",
   "metadata": {},
   "source": [
    "**2，初始化图表通用属性**"
   ]
  },
  {
   "cell_type": "markdown",
   "metadata": {},
   "source": [
    "图表通用属性指的是图表的title,subtitle,height,width,title_pos,title_color,title_text_size,background_color等属性，这些属性对所有类型的图表都适用。\n",
    "\n",
    "所有通用属性设置方式详细参见：https://github.com/lyhue1991/pyecharts/blob/master/docs/zh-cn/charts_configure.md"
   ]
  },
  {
   "cell_type": "code",
   "execution_count": null,
   "metadata": {},
   "outputs": [],
   "source": [
    "from pyecharts import Pie\n",
    "attr = [\"衬衫\", \"羊毛衫\", \"雪纺衫\", \"裤子\", \"高跟鞋\", \"袜子\"]\n",
    "value = [11, 12, 13, 10, 10, 10]\n",
    "\n",
    "# 初始化图表通用属性\n",
    "pie = Pie(title = \"销售额占比\",\n",
    "          title_pos = 'center', # 标题居中\n",
    "          title_top = 'bottom', # 标题在底部\n",
    "          title_color = '#0000ff', # 标题颜色设置为蓝色，256位rgb格式\n",
    "          background_color = \"#aee\", # 设置背景颜色，16位rgb格式\n",
    "          width = 600,height = 420)\n",
    "\n",
    "pie.add(\"\", attr, value, is_label_show=True)"
   ]
  },
  {
   "cell_type": "code",
   "execution_count": null,
   "metadata": {},
   "outputs": [],
   "source": []
  },
  {
   "cell_type": "markdown",
   "metadata": {},
   "source": [
    "**3，配置特定元素属性**"
   ]
  },
  {
   "cell_type": "markdown",
   "metadata": {},
   "source": [
    "特定元素属性包括xyAxis,dataZoom,lineStyle,markLine-markPoint,visualMap等元素属性，这些元素只在某些种类的图表中适用。例如xyAxis只在Line、Bar、Scatter、EffectScatter、Kline这几类图表中适用。\n",
    "\n",
    "所有特定元素属性设置方式详细参见：https://github.com/lyhue1991/pyecharts/blob/master/docs/zh-cn/charts_configure.md"
   ]
  },
  {
   "cell_type": "code",
   "execution_count": null,
   "metadata": {},
   "outputs": [],
   "source": [
    "# 设置xyAxis示范\n",
    "\n",
    "from  pyecharts import Line\n",
    "\n",
    "x = ['2018-{:0>2d}'.format(s) for s in range(1,13)]\n",
    "y1 = [5,10,26,30,35,30,20,26,40,46,40,50]\n",
    "y2 = [8,20,24,36,40,36,40,45,50,53,48,58]\n",
    "\n",
    "line = Line(title = \"月销售总额\",width = 600,height = 420)\n",
    "\n",
    "line.add(name = \"商家A\", x_axis = x, y_axis = y1)\n",
    "line.add(name = \"商家B\", x_axis = x, y_axis = y2,\n",
    "         #\n",
    "         #=====设置xyAxis=====\n",
    "         yaxis_min = 0,yaxis_max = 100,  # 设置y坐标轴刻度范围\n",
    "         xaxis_name = '月份', yaxis_name = '销售额', #x轴名称，y轴名称\n",
    "         xaxis_name_gap =  40, # x轴名称与轴距离\n",
    "         xaxis_rotate = 30,  # x轴刻度旋转角度\n",
    "         is_splitline_show = True, # 显示y轴网格线\n",
    "         is_xaxislabel_align = True # x轴刻度和标签是否对齐\n",
    "        )\n",
    "line"
   ]
  },
  {
   "cell_type": "code",
   "execution_count": null,
   "metadata": {},
   "outputs": [],
   "source": [
    "# 设置dataZoom示范\n",
    "\n",
    "from  pyecharts import Line\n",
    "\n",
    "x = ['2018-{:0>2d}'.format(s) for s in range(1,13)]\n",
    "y1 = [5,10,26,30,35,30,20,26,40,46,40,50]\n",
    "y2 = [8,20,24,36,40,36,40,45,50,53,48,58]\n",
    "\n",
    "line = Line(title = \"月销售总额\",width = 600,height = 420)\n",
    "\n",
    "line.add(name = \"商家A\", x_axis = x, y_axis = y1)\n",
    "line.add(name = \"商家B\", x_axis = x, y_axis = y2,\n",
    "         #\n",
    "         #=====设置xyAxis=====\n",
    "         is_xaxis_boundarygap = False,  # x坐标刻度对准数据，而不是作为分类边界\n",
    "         #\n",
    "         #=====设置dataZoom=====\n",
    "         is_datazoom_show = True, #显示 dataZoom控制条\n",
    "         datazoom_type = 'both' # 可以是slider,inside或both\n",
    "         #\n",
    "         #\n",
    "        )\n",
    "line"
   ]
  },
  {
   "cell_type": "code",
   "execution_count": null,
   "metadata": {},
   "outputs": [],
   "source": [
    "# 设置lineStyle示范\n",
    "\n",
    "from  pyecharts import Line\n",
    "\n",
    "x = ['2018-{:0>2d}'.format(s) for s in range(1,13)]\n",
    "y1 = [5,10,26,30,35,30,20,26,40,46,40,50]\n",
    "y2 = [8,20,24,36,40,36,40,45,50,53,48,58]\n",
    "\n",
    "line = Line(title = \"月销售总额\",width = 600,height = 420)\n",
    "\n",
    "line.add(name = \"商家A\", x_axis = x, y_axis = y1,\n",
    "         #\n",
    "         #=====设置lineStyle=====\n",
    "         line_width = 2,\n",
    "         line_opacity = 0.5, # 透明度\n",
    "         line_color = 'red'\n",
    "        )\n",
    "line.add(name = \"商家B\", x_axis = x, y_axis = y2,\n",
    "         #\n",
    "         #=====设置xyAxis=====\n",
    "         is_xaxis_boundarygap = False,  # x坐标刻度对准数据，而不是作为分类边界\n",
    "         #\n",
    "         #=====设置dataZoom=====\n",
    "         is_datazoom_show = True, #显示 dataZoom控制条\n",
    "         #\n",
    "         #=====设置lineStyle=====\n",
    "         line_width = 3,\n",
    "         line_color = '#11ffbb',\n",
    "         line_type = 'dashed', # 线型，可以是solid,dashed,或者dotted\n",
    "        )\n",
    "line"
   ]
  },
  {
   "cell_type": "code",
   "execution_count": null,
   "metadata": {},
   "outputs": [],
   "source": [
    "# 设置markPoint和markLine示范\n",
    "\n",
    "from  pyecharts import Line\n",
    "\n",
    "x = ['2018-{:0>2d}'.format(s) for s in range(1,13)]\n",
    "y1 = [5,10,26,30,35,30,20,26,40,46,40,50]\n",
    "y2 = [8,20,24,36,40,36,40,45,50,53,48,58]\n",
    "\n",
    "line = Line(title = \"月销售总额\",width = 600,height = 420)\n",
    "\n",
    "line.add(name = \"商家A\", x_axis = x, y_axis = y1,\n",
    "         #\n",
    "         #=====设置lineStyle=====\n",
    "         line_width = 2,\n",
    "         line_opacity = 0.5, # 透明度\n",
    "         line_color = 'red',\n",
    "         #\n",
    "         #=====设置markPoint&markLine=====\n",
    "         mark_point = ['min','max'], #标记点\n",
    "         mark_line = ['average'] #标记线\n",
    "        )\n",
    "line.add(name = \"商家B\", x_axis = x, y_axis = y2,\n",
    "         #\n",
    "         #=====设置xyAxis=====\n",
    "         is_xaxis_boundarygap = False,  # x坐标刻度对准数据，而不是作为分类边界\n",
    "         yaxis_min = 0,yaxis_max = 100,  # 设置y坐标轴刻度范围\n",
    "         #\n",
    "         #=====设置dataZoom=====\n",
    "         is_datazoom_show = True, #显示 dataZoom控制条\n",
    "         #\n",
    "         #=====设置lineStyle=====\n",
    "         line_width = 3,\n",
    "         line_type = 'dashed', # 线型，可以是solid,dashed,或者dotted\n",
    "         \n",
    "         #=====设置markPoint&markLine=====\n",
    "         mark_point = [{\"coord\": ['2018-09', 60], \"name\": \"2018/09销售目标\"}, \n",
    "          {\"coord\": ['2018-11', 80], \"name\": \"2018/10销售目标\"}]  # 自定义标记点\n",
    "        )\n",
    "line"
   ]
  },
  {
   "cell_type": "code",
   "execution_count": null,
   "metadata": {},
   "outputs": [],
   "source": []
  },
  {
   "cell_type": "code",
   "execution_count": null,
   "metadata": {},
   "outputs": [],
   "source": []
  },
  {
   "cell_type": "code",
   "execution_count": null,
   "metadata": {},
   "outputs": [],
   "source": []
  },
  {
   "cell_type": "markdown",
   "metadata": {},
   "source": [
    "### 三，图表组合"
   ]
  },
  {
   "cell_type": "markdown",
   "metadata": {},
   "source": [
    "如果要把多张图作为子图绘制在一张图中，或者要把柱状图和折线图这样不同类型的图表叠加在一起的时候，我们需要使用对基本图表进行一些组合来实现更加丰富的呈现效果。\n",
    "\n",
    "在pyecharts 中 对图表进行组合的方式主要有：Grid, Overlap，Page, Timeline这四种方式。"
   ]
  },
  {
   "cell_type": "code",
   "execution_count": null,
   "metadata": {},
   "outputs": [],
   "source": []
  },
  {
   "cell_type": "code",
   "execution_count": null,
   "metadata": {},
   "outputs": [],
   "source": []
  },
  {
   "cell_type": "code",
   "execution_count": null,
   "metadata": {},
   "outputs": [],
   "source": []
  },
  {
   "cell_type": "code",
   "execution_count": null,
   "metadata": {},
   "outputs": [],
   "source": []
  },
  {
   "cell_type": "code",
   "execution_count": null,
   "metadata": {},
   "outputs": [],
   "source": []
  },
  {
   "cell_type": "code",
   "execution_count": null,
   "metadata": {},
   "outputs": [],
   "source": []
  },
  {
   "cell_type": "code",
   "execution_count": null,
   "metadata": {},
   "outputs": [],
   "source": []
  },
  {
   "cell_type": "code",
   "execution_count": null,
   "metadata": {},
   "outputs": [],
   "source": []
  },
  {
   "cell_type": "code",
   "execution_count": null,
   "metadata": {},
   "outputs": [],
   "source": []
  },
  {
   "cell_type": "code",
   "execution_count": null,
   "metadata": {},
   "outputs": [],
   "source": []
  }
 ],
 "metadata": {
  "kernelspec": {
   "display_name": "Python 3",
   "language": "python",
   "name": "python3"
  },
  "language_info": {
   "codemirror_mode": {
    "name": "ipython",
    "version": 3
   },
   "file_extension": ".py",
   "mimetype": "text/x-python",
   "name": "python",
   "nbconvert_exporter": "python",
   "pygments_lexer": "ipython3",
   "version": "3.6.5"
  }
 },
 "nbformat": 4,
 "nbformat_minor": 2
}
